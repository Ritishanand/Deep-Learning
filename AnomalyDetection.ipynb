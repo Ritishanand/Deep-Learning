{
  "cells": [
    {
      "cell_type": "markdown",
      "metadata": {
        "id": "xdCvB7OUBFfi"
      },
      "source": [
        "## Anomaly Detection"
      ]
    },
    {
      "cell_type": "markdown",
      "metadata": {
        "id": "60r34rIkBFfr"
      },
      "source": [
        "In this notebook we'll see how to apply deep neural networks to the problem of detecting anomalies.  Anomaly detection is a wide-ranging and often weakly defined class of problem where we try to identify anomalous data points or sequences in a dataset.  When dealing with time series specifically (such as a sensor or collection of sensors on a piece of equipment), defining something as anomalus needs to take into account temporal dependencies.  This is a challenge that deep learning models are fairly well suited to handle.  We'll start with a simple time series of sensor readings and see how to construct an autoencoder using LTSM's that predict future time steps in the series.  We'll then see how to use the distribution of the model errors to identify points in time that stand out as potentially being anomalus.\n",
        "\n",
        "The dataset used for this example can be found [here](https://raw.githubusercontent.com/numenta/NAB/master/data/realKnownCause/machine_temperature_system_failure.csv).  It's part of a collection of datasets that Numenta has hosted to showcase their own anomaly detection methods.\n",
        "\n",
        "Let's start by getting some imports out of the way and reading the data into a data frame."
      ]
    },
    {
      "cell_type": "code",
      "execution_count": 2,
      "metadata": {
        "id": "NmHUowqEBFfu"
      },
      "outputs": [],
      "source": [
        "%matplotlib inline\n",
        "import datetime\n",
        "import matplotlib.pyplot as plt\n",
        "import numpy as np\n",
        "import pandas as pd\n",
        "#from jupyterthemes import jtplot\n",
        "#jtplot.style()"
      ]
    },
    {
      "cell_type": "code",
      "execution_count": 3,
      "metadata": {
        "id": "8gqz8WqABFfx",
        "outputId": "26003001-79c2-45c2-a2a7-cdcad28b996d",
        "colab": {
          "base_uri": "https://localhost:8080/"
        }
      },
      "outputs": [
        {
          "output_type": "execute_result",
          "data": {
            "text/plain": [
              "(22695, 2)"
            ]
          },
          "metadata": {},
          "execution_count": 3
        }
      ],
      "source": [
        "data = pd.read_csv('https://raw.githubusercontent.com/numenta/NAB/master/data/realKnownCause/machine_temperature_system_failure.csv')\n",
        "data.shape"
      ]
    },
    {
      "cell_type": "code",
      "execution_count": 4,
      "metadata": {
        "id": "ONgoPYJyBFf0",
        "outputId": "b56c29b0-61ad-4c57-d93f-f757aeb5e157",
        "colab": {
          "base_uri": "https://localhost:8080/",
          "height": 206
        }
      },
      "outputs": [
        {
          "output_type": "execute_result",
          "data": {
            "text/plain": [
              "             timestamp      value\n",
              "0  2013-12-02 21:15:00  73.967322\n",
              "1  2013-12-02 21:20:00  74.935882\n",
              "2  2013-12-02 21:25:00  76.124162\n",
              "3  2013-12-02 21:30:00  78.140707\n",
              "4  2013-12-02 21:35:00  79.329836"
            ],
            "text/html": [
              "\n",
              "  <div id=\"df-77eaff51-0ff4-4013-aafa-da53e8be4c14\">\n",
              "    <div class=\"colab-df-container\">\n",
              "      <div>\n",
              "<style scoped>\n",
              "    .dataframe tbody tr th:only-of-type {\n",
              "        vertical-align: middle;\n",
              "    }\n",
              "\n",
              "    .dataframe tbody tr th {\n",
              "        vertical-align: top;\n",
              "    }\n",
              "\n",
              "    .dataframe thead th {\n",
              "        text-align: right;\n",
              "    }\n",
              "</style>\n",
              "<table border=\"1\" class=\"dataframe\">\n",
              "  <thead>\n",
              "    <tr style=\"text-align: right;\">\n",
              "      <th></th>\n",
              "      <th>timestamp</th>\n",
              "      <th>value</th>\n",
              "    </tr>\n",
              "  </thead>\n",
              "  <tbody>\n",
              "    <tr>\n",
              "      <th>0</th>\n",
              "      <td>2013-12-02 21:15:00</td>\n",
              "      <td>73.967322</td>\n",
              "    </tr>\n",
              "    <tr>\n",
              "      <th>1</th>\n",
              "      <td>2013-12-02 21:20:00</td>\n",
              "      <td>74.935882</td>\n",
              "    </tr>\n",
              "    <tr>\n",
              "      <th>2</th>\n",
              "      <td>2013-12-02 21:25:00</td>\n",
              "      <td>76.124162</td>\n",
              "    </tr>\n",
              "    <tr>\n",
              "      <th>3</th>\n",
              "      <td>2013-12-02 21:30:00</td>\n",
              "      <td>78.140707</td>\n",
              "    </tr>\n",
              "    <tr>\n",
              "      <th>4</th>\n",
              "      <td>2013-12-02 21:35:00</td>\n",
              "      <td>79.329836</td>\n",
              "    </tr>\n",
              "  </tbody>\n",
              "</table>\n",
              "</div>\n",
              "      <button class=\"colab-df-convert\" onclick=\"convertToInteractive('df-77eaff51-0ff4-4013-aafa-da53e8be4c14')\"\n",
              "              title=\"Convert this dataframe to an interactive table.\"\n",
              "              style=\"display:none;\">\n",
              "        \n",
              "  <svg xmlns=\"http://www.w3.org/2000/svg\" height=\"24px\"viewBox=\"0 0 24 24\"\n",
              "       width=\"24px\">\n",
              "    <path d=\"M0 0h24v24H0V0z\" fill=\"none\"/>\n",
              "    <path d=\"M18.56 5.44l.94 2.06.94-2.06 2.06-.94-2.06-.94-.94-2.06-.94 2.06-2.06.94zm-11 1L8.5 8.5l.94-2.06 2.06-.94-2.06-.94L8.5 2.5l-.94 2.06-2.06.94zm10 10l.94 2.06.94-2.06 2.06-.94-2.06-.94-.94-2.06-.94 2.06-2.06.94z\"/><path d=\"M17.41 7.96l-1.37-1.37c-.4-.4-.92-.59-1.43-.59-.52 0-1.04.2-1.43.59L10.3 9.45l-7.72 7.72c-.78.78-.78 2.05 0 2.83L4 21.41c.39.39.9.59 1.41.59.51 0 1.02-.2 1.41-.59l7.78-7.78 2.81-2.81c.8-.78.8-2.07 0-2.86zM5.41 20L4 18.59l7.72-7.72 1.47 1.35L5.41 20z\"/>\n",
              "  </svg>\n",
              "      </button>\n",
              "      \n",
              "  <style>\n",
              "    .colab-df-container {\n",
              "      display:flex;\n",
              "      flex-wrap:wrap;\n",
              "      gap: 12px;\n",
              "    }\n",
              "\n",
              "    .colab-df-convert {\n",
              "      background-color: #E8F0FE;\n",
              "      border: none;\n",
              "      border-radius: 50%;\n",
              "      cursor: pointer;\n",
              "      display: none;\n",
              "      fill: #1967D2;\n",
              "      height: 32px;\n",
              "      padding: 0 0 0 0;\n",
              "      width: 32px;\n",
              "    }\n",
              "\n",
              "    .colab-df-convert:hover {\n",
              "      background-color: #E2EBFA;\n",
              "      box-shadow: 0px 1px 2px rgba(60, 64, 67, 0.3), 0px 1px 3px 1px rgba(60, 64, 67, 0.15);\n",
              "      fill: #174EA6;\n",
              "    }\n",
              "\n",
              "    [theme=dark] .colab-df-convert {\n",
              "      background-color: #3B4455;\n",
              "      fill: #D2E3FC;\n",
              "    }\n",
              "\n",
              "    [theme=dark] .colab-df-convert:hover {\n",
              "      background-color: #434B5C;\n",
              "      box-shadow: 0px 1px 3px 1px rgba(0, 0, 0, 0.15);\n",
              "      filter: drop-shadow(0px 1px 2px rgba(0, 0, 0, 0.3));\n",
              "      fill: #FFFFFF;\n",
              "    }\n",
              "  </style>\n",
              "\n",
              "      <script>\n",
              "        const buttonEl =\n",
              "          document.querySelector('#df-77eaff51-0ff4-4013-aafa-da53e8be4c14 button.colab-df-convert');\n",
              "        buttonEl.style.display =\n",
              "          google.colab.kernel.accessAllowed ? 'block' : 'none';\n",
              "\n",
              "        async function convertToInteractive(key) {\n",
              "          const element = document.querySelector('#df-77eaff51-0ff4-4013-aafa-da53e8be4c14');\n",
              "          const dataTable =\n",
              "            await google.colab.kernel.invokeFunction('convertToInteractive',\n",
              "                                                     [key], {});\n",
              "          if (!dataTable) return;\n",
              "\n",
              "          const docLinkHtml = 'Like what you see? Visit the ' +\n",
              "            '<a target=\"_blank\" href=https://colab.research.google.com/notebooks/data_table.ipynb>data table notebook</a>'\n",
              "            + ' to learn more about interactive tables.';\n",
              "          element.innerHTML = '';\n",
              "          dataTable['output_type'] = 'display_data';\n",
              "          await google.colab.output.renderOutput(dataTable, element);\n",
              "          const docLink = document.createElement('div');\n",
              "          docLink.innerHTML = docLinkHtml;\n",
              "          element.appendChild(docLink);\n",
              "        }\n",
              "      </script>\n",
              "    </div>\n",
              "  </div>\n",
              "  "
            ]
          },
          "metadata": {},
          "execution_count": 4
        }
      ],
      "source": [
        "data.head()"
      ]
    },
    {
      "cell_type": "markdown",
      "metadata": {
        "id": "DlPFDWzKBFf2"
      },
      "source": [
        "The data is very simple, just a series of timestamps and a value.  Many real-world problems will be much more complex than this (some industrial use cases might have hundreds or even thousands of variables) but the technique works the same no matter how many dimensions you're dealing with.  Since we only have one variable, let's plot it and see what it looks like."
      ]
    },
    {
      "cell_type": "code",
      "execution_count": 5,
      "metadata": {
        "scrolled": false,
        "id": "81nTUz8gBFf4",
        "outputId": "2bf5b8a1-a6cd-4a4b-ce4f-e8b095e812c5",
        "colab": {
          "base_uri": "https://localhost:8080/",
          "height": 623
        }
      },
      "outputs": [
        {
          "output_type": "execute_result",
          "data": {
            "text/plain": [
              "<matplotlib.axes._subplots.AxesSubplot at 0x7f6a35528f50>"
            ]
          },
          "metadata": {},
          "execution_count": 5
        },
        {
          "output_type": "display_data",
          "data": {
            "text/plain": [
              "<Figure size 1152x720 with 1 Axes>"
            ],
            "image/png": "[encoded data removed]"
          },
          "metadata": {
            "needs_background": "light"
          }
        }
      ],
      "source": [
        "data.set_index('timestamp').plot(figsize=(16, 10))"
      ]
    },
    {
      "cell_type": "markdown",
      "metadata": {
        "id": "6eVafC1gBFf6"
      },
      "source": [
        "Visually there are a number of spots that look like they might be outliers, but it's hard to tell.  In any case, the eye test certainly doesn't scale or have any statistical robustness behind it, so we need a better approach.  Anomaly detection is not natively a supervised learning problem in most cases, and even if labels are available, there's often so few events that it's hard to build a model from them.  We can turn it into a supervised learning problem though by building an autoencoder that just predicts the next step in the time series.  Start by massaging the data into a format that we can use and creating the typical training and validation sets."
      ]
    },
    {
      "cell_type": "code",
      "execution_count": 6,
      "metadata": {
        "id": "18kExi1VBFf7",
        "outputId": "fc92cb24-bfc0-40b1-d231-ec3b979a4613",
        "colab": {
          "base_uri": "https://localhost:8080/"
        }
      },
      "outputs": [
        {
          "output_type": "execute_result",
          "data": {
            "text/plain": [
              "((20424, 1), (20424, 1), (2270, 1), (2270, 1))"
            ]
          },
          "metadata": {},
          "execution_count": 6
        }
      ],
      "source": [
        "from sklearn.model_selection import train_test_split\n",
        "\n",
        "X = data['value'].values.reshape((len(data), 1))\n",
        "y = data['value'].values.reshape((len(data), 1))\n",
        "\n",
        "X = X[:-1, :]\n",
        "y = y[1:, :]\n",
        "\n",
        "X_train, X_val, y_train, y_val = train_test_split(X, y, test_size=0.1, random_state=42)\n",
        "\n",
        "X_train.shape, y_train.shape, X_val.shape, y_val.shape"
      ]
    },
    {
      "cell_type": "code",
      "execution_count": 7,
      "metadata": {
        "id": "RRhy4VldBFf-",
        "outputId": "d90f4d5c-7502-4d4b-8469-83d9a3c57111",
        "colab": {
          "base_uri": "https://localhost:8080/"
        }
      },
      "outputs": [
        {
          "output_type": "execute_result",
          "data": {
            "text/plain": [
              "(array([74.935882]), array([74.935882]))"
            ]
          },
          "metadata": {},
          "execution_count": 7
        }
      ],
      "source": [
        "X[1, :], y[0, :]"
      ]
    },
    {
      "cell_type": "markdown",
      "metadata": {
        "id": "Y-2PoXE2BFf_"
      },
      "source": [
        "All we did is offset the X and y arrays by one (in the opposite direction) so each slice of y is the next value of the same slice of X.  We're not done though because we want the autoencoder to \"see\" more than one of the previous time steps so it can build a representation of the patterns in the data.  Start by setting up a few variable such as the number of time steps to model."
      ]
    },
    {
      "cell_type": "code",
      "execution_count": 8,
      "metadata": {
        "id": "MabnKyq0BFgA"
      },
      "outputs": [],
      "source": [
        "n_timesteps = 48\n",
        "n_samples = X_train.shape[0]\n",
        "n_features = X_train.shape[1]\n",
        "n_val_samples = X_val.shape[0]"
      ]
    },
    {
      "cell_type": "markdown",
      "metadata": {
        "id": "4fGMsHmtBFgF"
      },
      "source": [
        "Now we need to transform the input arrays so that each \"row\" contains an array of the previous values in the series, up to our number of time steps.  Keras expects the time slices as the 2nd dimension in the array so we'll take care of this now.  We also need to adjust the labels array to account for the fact that we're starting at a later time slice now."
      ]
    },
    {
      "cell_type": "code",
      "execution_count": 9,
      "metadata": {
        "id": "nBIHf9VUBFgG",
        "outputId": "a07d526b-083e-41c8-fbe8-5a5e141da772",
        "colab": {
          "base_uri": "https://localhost:8080/"
        }
      },
      "outputs": [
        {
          "output_type": "execute_result",
          "data": {
            "text/plain": [
              "((20377, 48, 1), (20377, 1), (2223, 48, 1), (2223, 1))"
            ]
          },
          "metadata": {},
          "execution_count": 9
        }
      ],
      "source": [
        "X_train_list = [np.expand_dims(X_train[i-n_timesteps:i, :], axis=0) for i in range(n_timesteps, n_samples + 1)]\n",
        "X_train = np.concatenate(X_train_list, axis=0)\n",
        "y_train = y_train[n_timesteps-1:, :]\n",
        "\n",
        "X_val_list = [np.expand_dims(X_val[i-n_timesteps:i, :], axis=0) for i in range(n_timesteps, n_val_samples + 1)]\n",
        "X_val = np.concatenate(X_val_list, axis=0)\n",
        "y_val = y_val[n_timesteps-1:, :]\n",
        "\n",
        "X_train.shape, y_train.shape, X_val.shape, y_val.shape"
      ]
    },
    {
      "cell_type": "markdown",
      "metadata": {
        "id": "KJ6qJ0aVBFgH"
      },
      "source": [
        "Now that we have the data ready to go, we can proceed with defining the autoencoder.  There is nothing particular in the architecture itself that makes a network an autoencoder, it's just a function of the task that we've set the network up to perform.  That said, they typically have an \"encoder-decoder\" pattern which we've implemented using LSTM layers below.  The output is just a linear activation on a dense layer with size equal to the number of features.  Either absolute error or squared error should work.  This is just something that has to be experimented with.\n",
        "\n",
        "I'll note that I spent zero time tuning this so don't get too absorbed in the details of this particular architecture.  It's going to vary a lot depending on the problem you're trying to solve."
      ]
    },
    {
      "cell_type": "code",
      "execution_count": 17,
      "metadata": {
        "id": "wV4ZraOkBFgI"
      },
      "outputs": [],
      "source": [
        "from keras import backend as K\n",
        "from keras.models import Model\n",
        "from keras.layers import Activation, BatchNormalization\n",
        "from keras.layers import Dropout, Dense, Input, LSTM\n",
        "#from keras.optimizers import Adam\n",
        "\n",
        "def Autoencoder(n_timesteps, n_features):\n",
        "    i = Input(shape=(n_timesteps, n_features))\n",
        "    \n",
        "    x = LSTM(50, return_sequences=True)(i)\n",
        "    x = Dropout(0.4)(x)\n",
        "    \n",
        "    x = LSTM(50)(x)\n",
        "    x = Dropout(0.4)(x)\n",
        "\n",
        "    x = Dense(n_features, kernel_initializer='he_normal')(x)\n",
        "    x = Activation('linear')(x)\n",
        "\n",
        "    model = Model(inputs=i, outputs=x)\n",
        "    #opt = Adam(lr=0.01)\n",
        "    #model.compile(loss='mean_absolute_error', optimizer=opt)\n",
        "    model.compile(loss='mean_absolute_error', optimizer=\"Adam\")\n",
        "    return model"
      ]
    },
    {
      "cell_type": "markdown",
      "metadata": {
        "id": "XMdpmBBQBFgK"
      },
      "source": [
        "Always a good idea to look at the design and make sure it's doing what you expected."
      ]
    },
    {
      "cell_type": "code",
      "execution_count": 18,
      "metadata": {
        "id": "hk5HOweOBFgL",
        "outputId": "b5b356e3-c7f2-4d0d-cb6a-04a9f317f04d",
        "colab": {
          "base_uri": "https://localhost:8080/"
        }
      },
      "outputs": [
        {
          "output_type": "stream",
          "name": "stdout",
          "text": [
            "Model: \"model_3\"\n",
            "_________________________________________________________________\n",
            " Layer (type)                Output Shape              Param #   \n",
            "=================================================================\n",
            " input_4 (InputLayer)        [(None, 48, 1)]           0         \n",
            "                                                                 \n",
            " lstm_6 (LSTM)               (None, 48, 50)            10400     \n",
            "                                                                 \n",
            " dropout_6 (Dropout)         (None, 48, 50)            0         \n",
            "                                                                 \n",
            " lstm_7 (LSTM)               (None, 50)                20200     \n",
            "                                                                 \n",
            " dropout_7 (Dropout)         (None, 50)                0         \n",
            "                                                                 \n",
            " dense_3 (Dense)             (None, 1)                 51        \n",
            "                                                                 \n",
            " activation_3 (Activation)   (None, 1)                 0         \n",
            "                                                                 \n",
            "=================================================================\n",
            "Total params: 30,651\n",
            "Trainable params: 30,651\n",
            "Non-trainable params: 0\n",
            "_________________________________________________________________\n"
          ]
        }
      ],
      "source": [
        "model = Autoencoder(n_timesteps, n_features)\n",
        "model.summary()"
      ]
    },
    {
      "cell_type": "markdown",
      "metadata": {
        "id": "iHMSeStFBFgM"
      },
      "source": [
        "Training is very straightforward.  The loss asymptotes on this dataset very quickly.  It's possible that 48 time steps isn't enough to really model patterns in the data, or maybe our architecture isn't sufficient, or maybe it's not even possible to do much better with just a single variable.  One of the challenges with anomaly detection is it's hard to even say what would constitute a \"good\" loss on this problem.  Remember our ultimate goal is not to predict the next time slice.  We're using this task as a way to model the data distribution which we'll use further downstream."
      ]
    },
    {
      "cell_type": "code",
      "execution_count": 19,
      "metadata": {
        "id": "6LLqJFV2BFgN",
        "outputId": "7df836e3-e8da-4c30-999a-706ec4ae6056",
        "colab": {
          "base_uri": "https://localhost:8080/"
        }
      },
      "outputs": [
        {
          "output_type": "stream",
          "name": "stdout",
          "text": [
            "Epoch 1/10\n",
            "160/160 [==============================] - 18s 89ms/step - loss: 75.7053 - val_loss: 69.3547\n",
            "Epoch 2/10\n",
            "160/160 [==============================] - 13s 83ms/step - loss: 65.4009 - val_loss: 60.6785\n",
            "Epoch 3/10\n",
            "160/160 [==============================] - 13s 84ms/step - loss: 56.9012 - val_loss: 52.3887\n",
            "Epoch 4/10\n",
            "160/160 [==============================] - 13s 83ms/step - loss: 48.8770 - val_loss: 44.4773\n",
            "Epoch 5/10\n",
            "160/160 [==============================] - 14s 85ms/step - loss: 41.0897 - val_loss: 36.7719\n",
            "Epoch 6/10\n",
            "160/160 [==============================] - 14s 87ms/step - loss: 33.8376 - val_loss: 29.7214\n",
            "Epoch 7/10\n",
            "160/160 [==============================] - 13s 84ms/step - loss: 27.2215 - val_loss: 23.5699\n",
            "Epoch 8/10\n",
            "160/160 [==============================] - 13s 84ms/step - loss: 21.4707 - val_loss: 18.3748\n",
            "Epoch 9/10\n",
            "160/160 [==============================] - 14s 85ms/step - loss: 17.1760 - val_loss: 14.4151\n",
            "Epoch 10/10\n",
            "160/160 [==============================] - 14s 85ms/step - loss: 14.3102 - val_loss: 11.7875\n"
          ]
        }
      ],
      "source": [
        "model = Autoencoder(n_timesteps, n_features)\n",
        "history = model.fit(x=X_train, y=y_train, batch_size=128, epochs=10, verbose=1,\n",
        "                    callbacks=None, validation_data=(X_val, y_val), shuffle=False)"
      ]
    },
    {
      "cell_type": "markdown",
      "metadata": {
        "id": "YQzLjkhNBFgO"
      },
      "source": [
        "Next we need to generate some predictions on the training data and calculate the error for each instance."
      ]
    },
    {
      "cell_type": "code",
      "execution_count": 20,
      "metadata": {
        "id": "Ln6V1_hgBFgP",
        "outputId": "283302d4-05d1-4eaa-f7a8-a7b0596648e1",
        "colab": {
          "base_uri": "https://localhost:8080/"
        }
      },
      "outputs": [
        {
          "output_type": "execute_result",
          "data": {
            "text/plain": [
              "(20377, 1)"
            ]
          },
          "metadata": {},
          "execution_count": 20
        }
      ],
      "source": [
        "y_train_pred = model.predict(X_train)\n",
        "y_train_pred.shape"
      ]
    },
    {
      "cell_type": "code",
      "execution_count": 21,
      "metadata": {
        "id": "RmpphUpmBFgP",
        "outputId": "675e577e-af9f-44e5-b7d3-f961320a5a30",
        "colab": {
          "base_uri": "https://localhost:8080/"
        }
      },
      "outputs": [
        {
          "output_type": "execute_result",
          "data": {
            "text/plain": [
              "20377"
            ]
          },
          "metadata": {},
          "execution_count": 21
        }
      ],
      "source": [
        "from sklearn.metrics import mean_absolute_error\n",
        "errors = [mean_absolute_error(y_train[i, :], y_train_pred[i, :]) for i in range(y_train_pred.shape[0])]\n",
        "len(errors)"
      ]
    },
    {
      "cell_type": "markdown",
      "metadata": {
        "id": "7jxHH9eVBFgR"
      },
      "source": [
        "We now have a list of prediction errors from the model's training data.  The next step is to do something with these errors.  The general idea is that we can model the distribution of errors to capture the \"normal-ness\" of a given simple.  In other words, say we come up with a distribution where the mean is 10 and standard deviation is 5.  If we then had a new time slice that we run through the autoencoder and get an error of 11, we'd say that's probably not an anomaly because it's close to the mean.  However, if we get an error of 40 (i.e. the model is way off in it's prediction) then that's much more likely to be an anomaly.  One can imagine various different ways of employing this in a real-world system such as averaging recent errors over some period of time etc.\n",
        "\n",
        "First, let's see what happens when we do a kernel density estimation in seaborn.  This will give us a good idea of what the shape of the distribution should look like."
      ]
    },
    {
      "cell_type": "code",
      "execution_count": 22,
      "metadata": {
        "scrolled": true,
        "id": "zY2-2b6pBFgR",
        "outputId": "aed2b717-98a2-43d8-eecf-af066dfbb760",
        "colab": {
          "base_uri": "https://localhost:8080/",
          "height": 282
        }
      },
      "outputs": [
        {
          "output_type": "execute_result",
          "data": {
            "text/plain": [
              "<matplotlib.axes._subplots.AxesSubplot at 0x7f69b7964690>"
            ]
          },
          "metadata": {},
          "execution_count": 22
        },
        {
          "output_type": "display_data",
          "data": {
            "text/plain": [
              "<Figure size 432x288 with 1 Axes>"
            ],
            "image/png": "[encoded data removed]"
          },
          "metadata": {
            "needs_background": "light"
          }
        }
      ],
      "source": [
        "import seaborn as sb\n",
        "sb.kdeplot(errors, shade=True)"
      ]
    },
    {
      "cell_type": "markdown",
      "metadata": {
        "id": "k9VgahudBFgS"
      },
      "source": [
        "The errors don't quite appear to be normally distributed as there's a bit of a fat tail on the right side.  If this was a real project I might try to find something that fits better, but I think a gaussian is close enough for this example.  Let's load up scipy and fit the errors to a normal distribution."
      ]
    },
    {
      "cell_type": "code",
      "execution_count": 23,
      "metadata": {
        "id": "qwFsGOnnBFgS",
        "outputId": "0a4f9987-416e-41bb-b9a2-bb07eee84c31",
        "colab": {
          "base_uri": "https://localhost:8080/"
        }
      },
      "outputs": [
        {
          "output_type": "execute_result",
          "data": {
            "text/plain": [
              "(11.70152540577491, 8.538441578308149)"
            ]
          },
          "metadata": {},
          "execution_count": 23
        }
      ],
      "source": [
        "from scipy.stats import norm\n",
        "params = norm.fit(errors)\n",
        "dist = norm(loc=params[0], scale=params[1])\n",
        "\n",
        "dist.mean(), dist.std()"
      ]
    },
    {
      "cell_type": "markdown",
      "metadata": {
        "id": "8fzK8flPBFgT"
      },
      "source": [
        "We've got a mean of 9.25 and a standard deviation of 10.2.  That gives us a starting point to figure out which time slices are potential anomalies.  From here it's somewhat subjective.  We have to make a determination on how much of an outlier a point needs to be before we say it could be an anomaly.  Is it two standard deviations?  Three?  Making this call is probably going to be project-specifc.  We can make a generic function for \"scoring\" an error though regardless of where the cutoff is."
      ]
    },
    {
      "cell_type": "code",
      "execution_count": 24,
      "metadata": {
        "id": "6Iax5Tr-BFgU"
      },
      "outputs": [],
      "source": [
        "def is_anomaly(error, mean, std, threshold):\n",
        "    delta = np.abs(error - mean)\n",
        "    multiple = delta / std\n",
        "    if multiple < threshold:\n",
        "        return 0\n",
        "    else:\n",
        "        return 1"
      ]
    },
    {
      "cell_type": "markdown",
      "metadata": {
        "id": "IUDRtXKTBFgU"
      },
      "source": [
        "We can now run new data through the autoencoder, score the resulting prediction to get an error, and determine if the new data represents a potential anomaly based on how far out in the distribution that error falls.  Let's see an example using the validation data."
      ]
    },
    {
      "cell_type": "code",
      "execution_count": 25,
      "metadata": {
        "id": "3FRmgnehBFgV",
        "outputId": "bf73e6d2-f376-4701-d610-1c97e3df8798",
        "colab": {
          "base_uri": "https://localhost:8080/"
        }
      },
      "outputs": [
        {
          "output_type": "stream",
          "name": "stdout",
          "text": [
            "[1, 0, 0, 0, 0, 0, 0, 0, 1, 0]\n"
          ]
        }
      ],
      "source": [
        "y_val_pred = model.predict(X_val[:10, :, :])\n",
        "val_errors = [mean_absolute_error(y_val[i, :], y_val_pred[i, :]) for i in range(y_val_pred.shape[0])]\n",
        "result = [is_anomaly(x, dist.mean(), dist.std(), 2) for x in val_errors]\n",
        "print(result)"
      ]
    },
    {
      "cell_type": "markdown",
      "metadata": {
        "id": "Lun3m9O6BFgV"
      },
      "source": [
        "We could also come up with a continuous scoring system using the cumulative density function."
      ]
    },
    {
      "cell_type": "code",
      "execution_count": 26,
      "metadata": {
        "id": "Wpl5LJQ5BFgW"
      },
      "outputs": [],
      "source": [
        "def anomaly_score(error, dist):\n",
        "    delta = np.abs(error - dist.mean())\n",
        "    return dist.cdf(dist.mean() + delta)"
      ]
    },
    {
      "cell_type": "markdown",
      "metadata": {
        "id": "ZfzgoYabBFgW"
      },
      "source": [
        "The higher the number, the more likely the sample is to be an anomaly."
      ]
    },
    {
      "cell_type": "code",
      "execution_count": 27,
      "metadata": {
        "id": "IrEKWewGBFgX",
        "outputId": "630513cc-b00f-45d3-c5ac-3db4bca1ed52",
        "colab": {
          "base_uri": "https://localhost:8080/"
        }
      },
      "outputs": [
        {
          "output_type": "stream",
          "name": "stdout",
          "text": [
            "[0.9902, 0.5226, 0.7758, 0.6485, 0.7771, 0.5918, 0.6922, 0.7769, 0.985, 0.6575]\n"
          ]
        }
      ],
      "source": [
        "result = [np.round(anomaly_score(x, dist), 4) for x in val_errors]\n",
        "print(result)"
      ]
    },
    {
      "cell_type": "code",
      "execution_count": null,
      "metadata": {
        "id": "et9rV8qWBFgX"
      },
      "outputs": [],
      "source": [
        ""
      ]
    }
  ],
  "metadata": {
    "kernelspec": {
      "display_name": "Python 3",
      "language": "python",
      "name": "python3"
    },
    "language_info": {
      "codemirror_mode": {
        "name": "ipython",
        "version": 3
      },
      "file_extension": ".py",
      "mimetype": "text/x-python",
      "name": "python",
      "nbconvert_exporter": "python",
      "pygments_lexer": "ipython3",
      "version": "3.6.8"
    },
    "colab": {
      "name": "AnomalyDetection.ipynb",
      "provenance": []
    }
  },
  "nbformat": 4,
  "nbformat_minor": 0
}